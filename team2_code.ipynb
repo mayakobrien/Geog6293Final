{
 "cells": [
  {
   "cell_type": "markdown",
   "id": "d9952f59",
   "metadata": {},
   "source": [
    "# Team 2: Evaluating Urban Trees in Los Angeles\n",
    "\n",
    "This tool uses imagery, census block boundaries, and tree canopy metadata (in the form of a csv) in Los Angeles to identify census blocks in most need of increased tree canopy. It evaluates census blocks' existing tree canopy in 2016 (percent of census block area with tree canopy), percent of area identified in having potential for additional tree canopy as of 2016, and an updated percent of existing tree canopy in 2022.\n",
    "\n",
    "We used an area in the San Fernando Valley in Los Angeles for this proof of concept.\n",
    "\n",
    "GEOG 6293 | Eden Rotonda and Maya O'Brien"
   ]
  },
  {
   "cell_type": "code",
   "execution_count": null,
   "id": "6a96f63a",
   "metadata": {},
   "outputs": [],
   "source": [
    "# Import necessary modules\n",
    "\n",
    "import geowombat as gw\n",
    "import geopandas as gpd\n",
    "import pandas as pd\n",
    "import rasterio\n",
    "from rasterio.warp import reproject, Resampling, calculate_default_transform\n",
    "from rasterio.mask import mask\n",
    "from rasterio.coords import BoundingBox\n",
    "import matplotlib.pyplot as plt\n",
    "from sklearn.ensemble import RandomForestClassifier\n",
    "from sklearn.pipeline import Pipeline\n",
    "from sklearn.decomposition import PCA\n",
    "from geowombat.ml import  fit_predict"
   ]
  },
  {
   "cell_type": "code",
   "execution_count": null,
   "id": "31adfe83",
   "metadata": {},
   "outputs": [],
   "source": [
    "# Create variables for census block shapefile and tree canopy metric table from Tree People\n",
    "\n",
    "study_area = gpd.read_file(\"./data/StudyArea_CensusBlock.shp\")\n",
    "tree_canopy_metrics = gpd.read_file(\"./data/TreeCanopy_Metric2010.csv\")"
   ]
  },
  {
   "cell_type": "code",
   "execution_count": null,
   "id": "f4eff017",
   "metadata": {},
   "outputs": [],
   "source": [
    "# Convert necessary fields to int, drop unecessary fields, and merge tree canopy info to shapefile\n",
    "\n",
    "tree_canopy_metrics['TC_ID'] = tree_canopy_metrics['TC_ID'].astype('int64')\n",
    "\n",
    "tree_canopy_metrics = tree_canopy_metrics.drop(labels=['OID_', 'TC_E_A', 'TC_Pv_A', 'TC_Land_A', 'TC_Pi_A',\n",
    "       'TC_P_A', 'TC_Pv_P', 'TC_Pi_P'], axis=1)\n",
    "\n",
    "studyarea_lc = pd.merge(study_area, tree_canopy_metrics, on='TC_ID', how='inner')"
   ]
  },
  {
   "cell_type": "code",
   "execution_count": null,
   "id": "248fdb51",
   "metadata": {},
   "outputs": [],
   "source": [
    "# Convert certain coloumns to float\n",
    "\n",
    "columns_to_convert = ['TC_P_P', 'TC_E_P']\n",
    "for columns in columns_to_convert:\n",
    "   studyarea_lc[columns] = studyarea_lc[columns].astype(float)"
   ]
  },
  {
   "cell_type": "code",
   "execution_count": null,
   "id": "86ca2f03",
   "metadata": {},
   "outputs": [],
   "source": [
    "# Train pipeline for image classification\n",
    "\n",
    "train = gpd.read_file(\"./data/training.shp\")\n",
    "\n",
    "pipe = Pipeline([('rf', RandomForestClassifier(n_estimators=100,\n",
    "                                            random_state=0))])"
   ]
  },
  {
   "cell_type": "code",
   "execution_count": null,
   "id": "e9a8e488",
   "metadata": {},
   "outputs": [],
   "source": [
    "# THIS CELL TAKES A LONG TIME\n",
    "# Perform classification (1 - Tree Cover, 2 - Impervious, 3 - Water, 4 - Pervious/other Vegetation)\n",
    "\n",
    "# with gw.open(\"./data/m_3411852_ne_11_060_20220504.tif\", chunks=1280) as src:\n",
    "#     y= fit_predict(src, pipe, train, col='class')\n",
    "\n",
    "# Save classification image to disk\n",
    "# gw.save(data=y, filename='./data/image_classified.tif', overwrite=True)"
   ]
  },
  {
   "cell_type": "code",
   "execution_count": null,
   "id": "a4903835",
   "metadata": {},
   "outputs": [],
   "source": [
    "# Identify census blocks for each pixel\n",
    "\n",
    "polygon = gpd.read_file(\"./data/StudyArea_CensusBlock.shp\")\n",
    "in_path = './data/image_classified.tif'\n",
    "\n",
    "with gw.open(in_path) as src:\n",
    "    df = src.gw.extract(polygon,\n",
    "                        band_names=src.band.values.tolist())\n",
    "    print(df)"
   ]
  },
  {
   "cell_type": "code",
   "execution_count": null,
   "id": "f1a33ac8",
   "metadata": {},
   "outputs": [],
   "source": [
    "# Summarize pixel count by category per census block\n",
    "\n",
    "df_class_1 = df[df[1] == 1.0]\n",
    "df_class_2 = df[df[1] == 2.0]\n",
    "df_class_3 = df[df[1] == 3.0]\n",
    "df_class_4 = df[df[1] == 4.0]\n",
    "\n",
    "stat_1 = df_class_1.groupby('GEOID10').count()\n",
    "stat_1_drop = stat_1.drop(['id', 'point', 'geometry',\n",
    "                           'CTBG10', 'CT10', 'AreaSqMil',\n",
    "                           'LABEL', 'FIP10', 'FIP10RV',\n",
    "                           'CDP_NAME', 'CITYNAME', 'COMMNAME',\n",
    "                           'Shape_Leng', 'Shape_Area'], axis=1)\n",
    "\n",
    "stat_2 = df_class_2.groupby('GEOID10').count()\n",
    "stat_2_drop = stat_2.drop(['id', 'point', 'geometry',\n",
    "                           'CTBG10', 'CT10', 'AreaSqMil',\n",
    "                           'LABEL', 'FIP10', 'FIP10RV',\n",
    "                           'CDP_NAME', 'CITYNAME', 'COMMNAME',\n",
    "                           'Shape_Leng', 'Shape_Area'], axis=1)\n",
    "\n",
    "stat_3 = df_class_3.groupby('GEOID10').count()\n",
    "stat_3_drop = stat_3.drop(['id', 'point', 'geometry',\n",
    "                           'CTBG10', 'CT10', 'AreaSqMil',\n",
    "                           'LABEL', 'FIP10', 'FIP10RV',\n",
    "                           'CDP_NAME', 'CITYNAME', 'COMMNAME',\n",
    "                           'Shape_Leng', 'Shape_Area'], axis=1)\n",
    "\n",
    "stat_4 = df_class_4.groupby('GEOID10').count()\n",
    "stat_4_drop = stat_4.drop(['id', 'point', 'geometry',\n",
    "                           'CTBG10', 'CT10', 'AreaSqMil',\n",
    "                           'LABEL', 'FIP10', 'FIP10RV',\n",
    "                           'CDP_NAME', 'CITYNAME', 'COMMNAME',\n",
    "                           'Shape_Leng', 'Shape_Area'], axis=1)"
   ]
  },
  {
   "cell_type": "code",
   "execution_count": null,
   "id": "837d3812",
   "metadata": {},
   "outputs": [],
   "source": [
    "# Create summary table of pixel counts and 2022 percentage of tree canopy per census block\n",
    "\n",
    "summary_table = pd.DataFrame({'GEOID10':[], 'Tree_Cover':[], 'Impervious':[], 'Water':[], 'Pervious':[]})\n",
    "summary_table['GEOID10'] = polygon['GEOID10']\n",
    "\n",
    "merged_df = pd.merge(summary_table, stat_1_drop, on='GEOID10', how='inner')\n",
    "merged_df['Tree_Cover'] = merged_df[1]\n",
    "df_1 = merged_df.drop(['TC_ID', 1], axis=1)\n",
    "\n",
    "merged_df_2 = pd.merge(df_1, stat_2_drop, on='GEOID10', how='inner')\n",
    "merged_df_2['Impervious'] = merged_df_2[1]\n",
    "df_2 = merged_df_2.drop(['TC_ID', 1], axis=1)\n",
    "\n",
    "merged_df_3 = pd.merge(df_2, stat_3_drop, on='GEOID10', how='inner')\n",
    "merged_df_3['Water'] = merged_df_3[1]\n",
    "df_3 = merged_df_3.drop(['TC_ID', 1], axis=1)\n",
    "\n",
    "merged_df_4 = pd.merge(df_3, stat_4_drop, on='GEOID10', how='inner')\n",
    "merged_df_4['Pervious'] = merged_df_4[1]\n",
    "final = merged_df_4.drop([1], axis=1)\n",
    "\n",
    "final['TC_C_P'] = (final['Tree_Cover']) / (final['Tree_Cover'] + final['Impervious'] + final['Water'] + final['Pervious'])\n",
    "\n",
    "studyarea_final = pd.merge(studyarea_lc, final, on='GEOID10', how='inner')"
   ]
  },
  {
   "cell_type": "code",
   "execution_count": null,
   "id": "36efb0d9",
   "metadata": {},
   "outputs": [],
   "source": [
    "# Create a ranking index for each census block based on percentage of existing tree canopy in 2016, potential tree canopy as of 2016, and tree canopy percentage in 2022\n",
    "# Areas with low existing and higher potential will be prioritized for more trees\n",
    "\n",
    "def normalize(col):\n",
    "    return (col - col.min()) / (col.max() - col.min())\n",
    "\n",
    "studyarea_final['norm_estimate'] = 1 - normalize(studyarea_final['TC_E_P'])\n",
    "studyarea_final['norm_potential'] = normalize(studyarea_final['TC_P_P'])\n",
    "studyarea_final['norm_current'] = 1 - normalize(studyarea_final['TC_C_P'])\n",
    "\n",
    "studyarea_final['veg_score'] = (\n",
    "    0.25 * studyarea_final['norm_estimate'] +\n",
    "    0.25 * studyarea_final['norm_potential'] +\n",
    "    0.5 * studyarea_final['norm_current'])"
   ]
  },
  {
   "cell_type": "code",
   "execution_count": null,
   "id": "498f40e5",
   "metadata": {},
   "outputs": [],
   "source": [
    "# Plot results of ranking, areas in yellow are highest priority for more trees\n",
    "\n",
    "ax = studyarea_final.plot(column='veg_score', cmap='summer', figsize=(10, 10), legend=True)\n",
    "ax.set_xticks([])\n",
    "ax.set_yticks([])\n",
    "ax.set_title(\"Tree Canopy Ranking by Census Block in Study Area\\nHigh Rank = High Recommendation\")"
   ]
  },
  {
   "cell_type": "code",
   "execution_count": null,
   "id": "9d594548",
   "metadata": {},
   "outputs": [],
   "source": [
    "# Identify top 5 census tracks in need of additional tree canopy in study area\n",
    "\n",
    "final_sorted = studyarea_final.sort_values(by=\"veg_score\", ascending=False)\n",
    "top_5 = final_sorted.head(5)\n",
    "final_df = pd.DataFrame()\n",
    "final_df[\"Common Name\"] = top_5['COMMNAME']\n",
    "final_df[\"Census Block\"] = top_5['CT10']\n",
    "final_df[\"Tree Canopy Rank\"] = top_5['veg_score'].round(2)\n",
    "final_df"
   ]
  },
  {
   "cell_type": "code",
   "execution_count": null,
   "id": "2846360c",
   "metadata": {},
   "outputs": [],
   "source": []
  }
 ],
 "metadata": {
  "kernelspec": {
   "display_name": "gwenv",
   "language": "python",
   "name": "python3"
  },
  "language_info": {
   "codemirror_mode": {
    "name": "ipython",
    "version": 3
   },
   "file_extension": ".py",
   "mimetype": "text/x-python",
   "name": "python",
   "nbconvert_exporter": "python",
   "pygments_lexer": "ipython3",
   "version": "3.11.11"
  }
 },
 "nbformat": 4,
 "nbformat_minor": 5
}
